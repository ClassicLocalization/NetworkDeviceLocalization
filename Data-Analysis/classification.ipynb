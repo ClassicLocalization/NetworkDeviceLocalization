{
 "cells": [
  {
   "cell_type": "code",
   "execution_count": 119,
   "id": "9cf414a2",
   "metadata": {},
   "outputs": [
    {
     "data": {
      "text/html": [
       "<div>\n",
       "<style scoped>\n",
       "    .dataframe tbody tr th:only-of-type {\n",
       "        vertical-align: middle;\n",
       "    }\n",
       "\n",
       "    .dataframe tbody tr th {\n",
       "        vertical-align: top;\n",
       "    }\n",
       "\n",
       "    .dataframe thead th {\n",
       "        text-align: right;\n",
       "    }\n",
       "</style>\n",
       "<table border=\"1\" class=\"dataframe\">\n",
       "  <thead>\n",
       "    <tr style=\"text-align: right;\">\n",
       "      <th></th>\n",
       "      <th>distance</th>\n",
       "      <th>std</th>\n",
       "      <th>rssi</th>\n",
       "      <th>correlation</th>\n",
       "      <th>invalid_01</th>\n",
       "      <th>invalid_02</th>\n",
       "    </tr>\n",
       "  </thead>\n",
       "  <tbody>\n",
       "    <tr>\n",
       "      <th>327</th>\n",
       "      <td>2.0</td>\n",
       "      <td>0.015818</td>\n",
       "      <td>-58</td>\n",
       "      <td>0.941079</td>\n",
       "      <td>0.0</td>\n",
       "      <td>0.0</td>\n",
       "    </tr>\n",
       "    <tr>\n",
       "      <th>328</th>\n",
       "      <td>2.0</td>\n",
       "      <td>0.007116</td>\n",
       "      <td>-59</td>\n",
       "      <td>0.972812</td>\n",
       "      <td>0.0</td>\n",
       "      <td>0.0</td>\n",
       "    </tr>\n",
       "    <tr>\n",
       "      <th>329</th>\n",
       "      <td>2.0</td>\n",
       "      <td>0.008899</td>\n",
       "      <td>-59</td>\n",
       "      <td>0.964866</td>\n",
       "      <td>0.0</td>\n",
       "      <td>0.0</td>\n",
       "    </tr>\n",
       "    <tr>\n",
       "      <th>330</th>\n",
       "      <td>2.0</td>\n",
       "      <td>0.012685</td>\n",
       "      <td>-59</td>\n",
       "      <td>0.955320</td>\n",
       "      <td>0.0</td>\n",
       "      <td>0.0</td>\n",
       "    </tr>\n",
       "    <tr>\n",
       "      <th>331</th>\n",
       "      <td>2.0</td>\n",
       "      <td>0.012474</td>\n",
       "      <td>-59</td>\n",
       "      <td>0.954740</td>\n",
       "      <td>0.0</td>\n",
       "      <td>0.0</td>\n",
       "    </tr>\n",
       "  </tbody>\n",
       "</table>\n",
       "</div>"
      ],
      "text/plain": [
       "     distance       std  rssi  correlation  invalid_01  invalid_02\n",
       "327       2.0  0.015818   -58     0.941079         0.0         0.0\n",
       "328       2.0  0.007116   -59     0.972812         0.0         0.0\n",
       "329       2.0  0.008899   -59     0.964866         0.0         0.0\n",
       "330       2.0  0.012685   -59     0.955320         0.0         0.0\n",
       "331       2.0  0.012474   -59     0.954740         0.0         0.0"
      ]
     },
     "execution_count": 119,
     "metadata": {},
     "output_type": "execute_result"
    }
   ],
   "source": [
    "import pandas as pd\n",
    "import csv\n",
    "\n",
    "df = pd.read_csv(r'C:\\Users\\Superadmin\\Desktop\\Bachelorarbeit\\dataAnalysis\\csi_data.csv')\n",
    "df.tail()"
   ]
  },
  {
   "cell_type": "code",
   "execution_count": 212,
   "id": "44206c74",
   "metadata": {},
   "outputs": [
    {
     "name": "stdout",
     "output_type": "stream",
     "text": [
      "[ 0.00000000e+00 -8.99858826e-02 -1.00337419e-02 -4.20116885e-04\n",
      " -8.39321613e-06 -8.01929525e-08 -2.92210242e-10]\n"
     ]
    }
   ],
   "source": [
    "from sklearn.model_selection import train_test_split\n",
    "from sklearn.preprocessing import PolynomialFeatures\n",
    "from sklearn import linear_model\n",
    "\n",
    "X_train, X_test, y_train, y_test = train_test_split(df['rssi'], df['std'])\n",
    "X_train_df, X_test_df = pd.DataFrame(X_train), pd.DataFrame(X_test)\n",
    "\n",
    "dgr = 6\n",
    "\n",
    "poly = PolynomialFeatures(degree = dgr)\n",
    "X_train_poly, X_test_poly = poly.fit_transform(X_train_df), poly.fit_transform(X_test_df)\n",
    "\n",
    "model = linear_model.LinearRegression()\n",
    "model = model.fit(X_train_poly, y_train)\n",
    "coefficient = model.coef_\n",
    "intercept = model.intercept_\n",
    "print(coefficient)"
   ]
  },
  {
   "cell_type": "code",
   "execution_count": 214,
   "id": "e2fea24d",
   "metadata": {},
   "outputs": [
    {
     "data": {
      "image/png": "[encoded data removed]",
      "text/plain": [
       "<Figure size 432x288 with 1 Axes>"
      ]
     },
     "metadata": {
      "needs_background": "light"
     },
     "output_type": "display_data"
    }
   ],
   "source": [
    "import matplotlib.pyplot as plt\n",
    "import numpy as np\n",
    "\n",
    "x_axis = np.arange(-70, 0.35, 0.1)\n",
    "response = intercept + coefficient[1] * x_axis\n",
    "for i in range(2,dgr+1):\n",
    "    response += coefficient[i] * x_axis**i\n",
    "\n",
    "\n",
    "plt.scatter(df['rssi'], df['std'], color='blue')\n",
    "plt.plot(x_axis, response, color = 'red')\n",
    "\n",
    "plt.xlabel(\"rssi\")\n",
    "plt.ylabel(\"std\")\n",
    "plt.savefig('rssi-std.png')\n",
    "\n",
    "    "
   ]
  },
  {
   "cell_type": "code",
   "execution_count": null,
   "id": "79d0f657",
   "metadata": {},
   "outputs": [],
   "source": []
  },
  {
   "cell_type": "code",
   "execution_count": null,
   "id": "d9ca86aa",
   "metadata": {},
   "outputs": [],
   "source": []
  }
 ],
 "metadata": {
  "kernelspec": {
   "display_name": "Python 3 (ipykernel)",
   "language": "python",
   "name": "python3"
  },
  "language_info": {
   "codemirror_mode": {
    "name": "ipython",
    "version": 3
   },
   "file_extension": ".py",
   "mimetype": "text/x-python",
   "name": "python",
   "nbconvert_exporter": "python",
   "pygments_lexer": "ipython3",
   "version": "3.9.0"
  }
 },
 "nbformat": 4,
 "nbformat_minor": 5
}
